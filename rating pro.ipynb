{
 "cells": [
  {
   "cell_type": "markdown",
   "metadata": {},
   "source": [
    "# Project - Ratings Prediction"
   ]
  },
  {
   "cell_type": "markdown",
   "metadata": {},
   "source": [
    "We have a client who has a website where people write different reviews for technical products. Now they are adding a new feature to their website i.e. The reviewer will have to add stars(rating) as well with the review.Now they want to predict ratings for the reviews which were written in the past and they don’t have a rating. So, we have to build an application which can predict the rating by seeing the review."
   ]
  },
  {
   "cell_type": "markdown",
   "metadata": {},
   "source": [
    "First we have to import the data which is available in the form of excel file .We have to import that file using pandas library."
   ]
  },
  {
   "cell_type": "code",
   "execution_count": 1,
   "metadata": {},
   "outputs": [
    {
     "data": {
      "text/html": [
       "<div>\n",
       "<style scoped>\n",
       "    .dataframe tbody tr th:only-of-type {\n",
       "        vertical-align: middle;\n",
       "    }\n",
       "\n",
       "    .dataframe tbody tr th {\n",
       "        vertical-align: top;\n",
       "    }\n",
       "\n",
       "    .dataframe thead th {\n",
       "        text-align: right;\n",
       "    }\n",
       "</style>\n",
       "<table border=\"1\" class=\"dataframe\">\n",
       "  <thead>\n",
       "    <tr style=\"text-align: right;\">\n",
       "      <th></th>\n",
       "      <th>Sr. No.</th>\n",
       "      <th>Site</th>\n",
       "      <th>Product</th>\n",
       "      <th>Model Name</th>\n",
       "      <th>Rating</th>\n",
       "      <th>Reviews</th>\n",
       "    </tr>\n",
       "  </thead>\n",
       "  <tbody>\n",
       "    <tr>\n",
       "      <th>0</th>\n",
       "      <td>1</td>\n",
       "      <td>FlipKart</td>\n",
       "      <td>Laptop</td>\n",
       "      <td>HP 14s Core i5 11th Gen - (8 GB/512 GB SSD/Win...</td>\n",
       "      <td>4.3240</td>\n",
       "      <td>18</td>\n",
       "    </tr>\n",
       "    <tr>\n",
       "      <th>1</th>\n",
       "      <td>2</td>\n",
       "      <td>FlipKart</td>\n",
       "      <td>Laptop</td>\n",
       "      <td>MSI GF63 Thin Core i5 9th Gen - (8 GB/512 GB S...</td>\n",
       "      <td>4.4712</td>\n",
       "      <td>97</td>\n",
       "    </tr>\n",
       "    <tr>\n",
       "      <th>2</th>\n",
       "      <td>3</td>\n",
       "      <td>FlipKart</td>\n",
       "      <td>Laptop</td>\n",
       "      <td>HP Pavilion x360 Core i3 11th Gen - (8 GB/256 ...</td>\n",
       "      <td>4.4271</td>\n",
       "      <td>27</td>\n",
       "    </tr>\n",
       "    <tr>\n",
       "      <th>3</th>\n",
       "      <td>4</td>\n",
       "      <td>FlipKart</td>\n",
       "      <td>Laptop</td>\n",
       "      <td>Lenovo IdeaPad Flex 5 Ryzen 7 Octa Core 5700U ...</td>\n",
       "      <td>4.7300</td>\n",
       "      <td>0</td>\n",
       "    </tr>\n",
       "    <tr>\n",
       "      <th>4</th>\n",
       "      <td>5</td>\n",
       "      <td>FlipKart</td>\n",
       "      <td>Laptop</td>\n",
       "      <td>Lenovo Ideapad S145 Ryzen 3 Dual Core 3200U - ...</td>\n",
       "      <td>3.9500</td>\n",
       "      <td>749</td>\n",
       "    </tr>\n",
       "    <tr>\n",
       "      <th>...</th>\n",
       "      <td>...</td>\n",
       "      <td>...</td>\n",
       "      <td>...</td>\n",
       "      <td>...</td>\n",
       "      <td>...</td>\n",
       "      <td>...</td>\n",
       "    </tr>\n",
       "    <tr>\n",
       "      <th>12029</th>\n",
       "      <td>12030</td>\n",
       "      <td>ebay</td>\n",
       "      <td>Router</td>\n",
       "      <td>D-Link RangeBooster N DIR-628 54 Mbps 4-Port ...</td>\n",
       "      <td>4.5000</td>\n",
       "      <td>19</td>\n",
       "    </tr>\n",
       "    <tr>\n",
       "      <th>12030</th>\n",
       "      <td>12031</td>\n",
       "      <td>ebay</td>\n",
       "      <td>Router</td>\n",
       "      <td>NETGEAR AC1200 Smart Wi-Fi Router with Extern...</td>\n",
       "      <td>5.0000</td>\n",
       "      <td>45</td>\n",
       "    </tr>\n",
       "    <tr>\n",
       "      <th>12031</th>\n",
       "      <td>12032</td>\n",
       "      <td>ebay</td>\n",
       "      <td>Router</td>\n",
       "      <td>NETGEAR Nighthawk AC1900 Smart WiFi Router Mo...</td>\n",
       "      <td>4.5000</td>\n",
       "      <td>640</td>\n",
       "    </tr>\n",
       "    <tr>\n",
       "      <th>12032</th>\n",
       "      <td>12033</td>\n",
       "      <td>ebay</td>\n",
       "      <td>Router</td>\n",
       "      <td>Cisco Linksys E1200 V2 Wireless-N300 Wi-Fi Ro...</td>\n",
       "      <td>4.5000</td>\n",
       "      <td>253</td>\n",
       "    </tr>\n",
       "    <tr>\n",
       "      <th>12033</th>\n",
       "      <td>12034</td>\n",
       "      <td>ebay</td>\n",
       "      <td>Router</td>\n",
       "      <td>5 Bit Architectural Molding Router Bit Set - ...</td>\n",
       "      <td>4.5000</td>\n",
       "      <td>3</td>\n",
       "    </tr>\n",
       "  </tbody>\n",
       "</table>\n",
       "<p>12034 rows × 6 columns</p>\n",
       "</div>"
      ],
      "text/plain": [
       "       Sr. No.      Site Product  \\\n",
       "0            1  FlipKart  Laptop   \n",
       "1            2  FlipKart  Laptop   \n",
       "2            3  FlipKart  Laptop   \n",
       "3            4  FlipKart  Laptop   \n",
       "4            5  FlipKart  Laptop   \n",
       "...        ...       ...     ...   \n",
       "12029    12030      ebay  Router   \n",
       "12030    12031      ebay  Router   \n",
       "12031    12032      ebay  Router   \n",
       "12032    12033      ebay  Router   \n",
       "12033    12034      ebay  Router   \n",
       "\n",
       "                                              Model Name  Rating  Reviews  \n",
       "0      HP 14s Core i5 11th Gen - (8 GB/512 GB SSD/Win...  4.3240       18  \n",
       "1      MSI GF63 Thin Core i5 9th Gen - (8 GB/512 GB S...  4.4712       97  \n",
       "2      HP Pavilion x360 Core i3 11th Gen - (8 GB/256 ...  4.4271       27  \n",
       "3      Lenovo IdeaPad Flex 5 Ryzen 7 Octa Core 5700U ...  4.7300        0  \n",
       "4      Lenovo Ideapad S145 Ryzen 3 Dual Core 3200U - ...  3.9500      749  \n",
       "...                                                  ...     ...      ...  \n",
       "12029   D-Link RangeBooster N DIR-628 54 Mbps 4-Port ...  4.5000       19  \n",
       "12030   NETGEAR AC1200 Smart Wi-Fi Router with Extern...  5.0000       45  \n",
       "12031   NETGEAR Nighthawk AC1900 Smart WiFi Router Mo...  4.5000      640  \n",
       "12032   Cisco Linksys E1200 V2 Wireless-N300 Wi-Fi Ro...  4.5000      253  \n",
       "12033   5 Bit Architectural Molding Router Bit Set - ...  4.5000        3  \n",
       "\n",
       "[12034 rows x 6 columns]"
      ]
     },
     "execution_count": 1,
     "metadata": {},
     "output_type": "execute_result"
    }
   ],
   "source": [
    "#lets import pandas library to read the data\n",
    "import pandas as pd\n",
    "df = pd.read_excel('Combined.xlsx')\n",
    "df"
   ]
  },
  {
   "cell_type": "markdown",
   "metadata": {},
   "source": [
    "Here in this dataset we have to predict ratings based on customer reviews on electronics product from online shopping sites. So to build a model using Machine Learning in order to predict the actual value of the ratings we have to do preprocessing on dataset and  decide the ratings based on reviews."
   ]
  },
  {
   "cell_type": "markdown",
   "metadata": {},
   "source": [
    "# Data Pre-processing "
   ]
  },
  {
   "cell_type": "markdown",
   "metadata": {},
   "source": [
    "There is some process that we have to do while pre-processing.\n",
    "\n",
    "1.Our dataset is not always in proper format. Sometimes there maybe some missing values, sometimes there must be out of the box values. Our data is always a raw data so for that we have to do some wrangling process.\n",
    "\n",
    "2.Check the data type of each column.\n",
    "\n",
    "3.Check the summary of our dataset."
   ]
  },
  {
   "cell_type": "code",
   "execution_count": 2,
   "metadata": {},
   "outputs": [
    {
     "data": {
      "text/plain": [
       "Index(['Sr. No.', 'Site', 'Product', 'Model Name', 'Rating', 'Reviews'], dtype='object')"
      ]
     },
     "execution_count": 2,
     "metadata": {},
     "output_type": "execute_result"
    }
   ],
   "source": [
    "#Check the columns name\n",
    "df.columns"
   ]
  },
  {
   "cell_type": "code",
   "execution_count": 3,
   "metadata": {},
   "outputs": [
    {
     "name": "stdout",
     "output_type": "stream",
     "text": [
      "<class 'pandas.core.frame.DataFrame'>\n",
      "RangeIndex: 12034 entries, 0 to 12033\n",
      "Columns: 6 entries, Sr. No. to Reviews\n",
      "dtypes: float64(1), int64(2), object(3)\n",
      "memory usage: 564.2+ KB\n"
     ]
    }
   ],
   "source": [
    "pd.options.display.max_info_columns = 5\n",
    "df.info()"
   ]
  },
  {
   "cell_type": "code",
   "execution_count": 5,
   "metadata": {},
   "outputs": [
    {
     "data": {
      "text/plain": [
       "Sr. No.         0\n",
       "Site            0\n",
       "Product         0\n",
       "Model Name      0\n",
       "Rating        112\n",
       "Reviews         0\n",
       "dtype: int64"
      ]
     },
     "execution_count": 5,
     "metadata": {},
     "output_type": "execute_result"
    }
   ],
   "source": [
    "df.isnull().sum()"
   ]
  },
  {
   "cell_type": "markdown",
   "metadata": {},
   "source": [
    "From this we can say that some columns have object data type, some have float and some have int data type. There are 112 null values present in our dataset so we have fill that values."
   ]
  },
  {
   "cell_type": "code",
   "execution_count": 7,
   "metadata": {},
   "outputs": [
    {
     "data": {
      "text/html": [
       "<div>\n",
       "<style scoped>\n",
       "    .dataframe tbody tr th:only-of-type {\n",
       "        vertical-align: middle;\n",
       "    }\n",
       "\n",
       "    .dataframe tbody tr th {\n",
       "        vertical-align: top;\n",
       "    }\n",
       "\n",
       "    .dataframe thead th {\n",
       "        text-align: right;\n",
       "    }\n",
       "</style>\n",
       "<table border=\"1\" class=\"dataframe\">\n",
       "  <thead>\n",
       "    <tr style=\"text-align: right;\">\n",
       "      <th></th>\n",
       "      <th>Sr. No.</th>\n",
       "      <th>Rating</th>\n",
       "      <th>Reviews</th>\n",
       "    </tr>\n",
       "  </thead>\n",
       "  <tbody>\n",
       "    <tr>\n",
       "      <th>count</th>\n",
       "      <td>12034.000000</td>\n",
       "      <td>11922.000000</td>\n",
       "      <td>12034.000000</td>\n",
       "    </tr>\n",
       "    <tr>\n",
       "      <th>mean</th>\n",
       "      <td>6017.500000</td>\n",
       "      <td>4.629389</td>\n",
       "      <td>328.451720</td>\n",
       "    </tr>\n",
       "    <tr>\n",
       "      <th>std</th>\n",
       "      <td>3474.060904</td>\n",
       "      <td>0.312361</td>\n",
       "      <td>1285.077686</td>\n",
       "    </tr>\n",
       "    <tr>\n",
       "      <th>min</th>\n",
       "      <td>1.000000</td>\n",
       "      <td>3.740000</td>\n",
       "      <td>0.000000</td>\n",
       "    </tr>\n",
       "    <tr>\n",
       "      <th>25%</th>\n",
       "      <td>3009.250000</td>\n",
       "      <td>4.500000</td>\n",
       "      <td>4.000000</td>\n",
       "    </tr>\n",
       "    <tr>\n",
       "      <th>50%</th>\n",
       "      <td>6017.500000</td>\n",
       "      <td>4.500000</td>\n",
       "      <td>20.000000</td>\n",
       "    </tr>\n",
       "    <tr>\n",
       "      <th>75%</th>\n",
       "      <td>9025.750000</td>\n",
       "      <td>5.000000</td>\n",
       "      <td>94.000000</td>\n",
       "    </tr>\n",
       "    <tr>\n",
       "      <th>max</th>\n",
       "      <td>12034.000000</td>\n",
       "      <td>5.000000</td>\n",
       "      <td>14203.000000</td>\n",
       "    </tr>\n",
       "  </tbody>\n",
       "</table>\n",
       "</div>"
      ],
      "text/plain": [
       "            Sr. No.        Rating       Reviews\n",
       "count  12034.000000  11922.000000  12034.000000\n",
       "mean    6017.500000      4.629389    328.451720\n",
       "std     3474.060904      0.312361   1285.077686\n",
       "min        1.000000      3.740000      0.000000\n",
       "25%     3009.250000      4.500000      4.000000\n",
       "50%     6017.500000      4.500000     20.000000\n",
       "75%     9025.750000      5.000000     94.000000\n",
       "max    12034.000000      5.000000  14203.000000"
      ]
     },
     "execution_count": 7,
     "metadata": {},
     "output_type": "execute_result"
    }
   ],
   "source": [
    "df.describe()"
   ]
  },
  {
   "cell_type": "markdown",
   "metadata": {},
   "source": [
    "From above we can say that all values for each column is different.\n",
    "\n",
    "1.For Ratings column max value is 5 and 75% value is 5. So we can say that in such case data is ok.\n",
    "\n",
    "2.But for the Review column max value is 14203 and 75% value is 94 so in this case we can say that some outliers are present in this column."
   ]
  },
  {
   "cell_type": "markdown",
   "metadata": {},
   "source": [
    "# Fill NaN values"
   ]
  },
  {
   "cell_type": "code",
   "execution_count": 8,
   "metadata": {},
   "outputs": [],
   "source": [
    "df.Rating = df.Rating.fillna(df.Rating.mean())"
   ]
  },
  {
   "cell_type": "code",
   "execution_count": 9,
   "metadata": {},
   "outputs": [
    {
     "data": {
      "text/plain": [
       "Sr. No.       0\n",
       "Site          0\n",
       "Product       0\n",
       "Model Name    0\n",
       "Rating        0\n",
       "Reviews       0\n",
       "dtype: int64"
      ]
     },
     "execution_count": 9,
     "metadata": {},
     "output_type": "execute_result"
    }
   ],
   "source": [
    "df.isnull().sum()"
   ]
  },
  {
   "cell_type": "markdown",
   "metadata": {},
   "source": [
    "Here we have to fill null values using mean, median any method."
   ]
  },
  {
   "cell_type": "code",
   "execution_count": 10,
   "metadata": {},
   "outputs": [],
   "source": [
    "df.drop(columns=['Sr. No.','Model Name'],inplace=True)"
   ]
  },
  {
   "cell_type": "markdown",
   "metadata": {},
   "source": [
    "We have drop the columns sr.no and model name."
   ]
  },
  {
   "cell_type": "markdown",
   "metadata": {},
   "source": [
    "# EDA"
   ]
  },
  {
   "cell_type": "markdown",
   "metadata": {},
   "source": [
    "# Univariate"
   ]
  },
  {
   "cell_type": "markdown",
   "metadata": {},
   "source": [
    "In this step we have to do the analysis of each column using univariate method. So for this I have used Count method to check the number of unique values present in that particular column and also some visualization libraries to understand our data more clearly."
   ]
  },
  {
   "cell_type": "code",
   "execution_count": 11,
   "metadata": {
    "scrolled": true
   },
   "outputs": [
    {
     "data": {
      "text/plain": [
       "4.500000    4848\n",
       "5.000000    4283\n",
       "4.000000     543\n",
       "4.310000     120\n",
       "4.629389     112\n",
       "            ... \n",
       "4.713200      20\n",
       "4.471200      20\n",
       "4.626600      20\n",
       "4.727000      20\n",
       "4.375000      20\n",
       "Name: Rating, Length: 87, dtype: int64"
      ]
     },
     "execution_count": 11,
     "metadata": {},
     "output_type": "execute_result"
    }
   ],
   "source": [
    "df['Rating'].value_counts()"
   ]
  },
  {
   "cell_type": "markdown",
   "metadata": {},
   "source": [
    "We have to convert the ratings to round figure because the rating is out 5 stars and it only has 5 options available 1 star, 2 stars, 3 stars, 4 stars, 5 stars."
   ]
  },
  {
   "cell_type": "code",
   "execution_count": 22,
   "metadata": {},
   "outputs": [],
   "source": [
    "# converting 'rating' from float to int\n",
    "df['Rating'] = df['Rating'].astype(int)"
   ]
  },
  {
   "cell_type": "code",
   "execution_count": 23,
   "metadata": {},
   "outputs": [
    {
     "data": {
      "text/plain": [
       "4    7555\n",
       "5    4283\n",
       "3     196\n",
       "Name: Rating, dtype: int64"
      ]
     },
     "execution_count": 23,
     "metadata": {},
     "output_type": "execute_result"
    }
   ],
   "source": [
    "df['Rating'].value_counts()"
   ]
  },
  {
   "cell_type": "code",
   "execution_count": 13,
   "metadata": {},
   "outputs": [
    {
     "data": {
      "text/plain": [
       "1       1412\n",
       "5        756\n",
       "2        660\n",
       "3        520\n",
       "4        499\n",
       "        ... \n",
       "665       20\n",
       "1133      20\n",
       "257       20\n",
       "209       20\n",
       "1075      20\n",
       "Name: Reviews, Length: 136, dtype: int64"
      ]
     },
     "execution_count": 13,
     "metadata": {},
     "output_type": "execute_result"
    }
   ],
   "source": [
    "df['Reviews'].value_counts()"
   ]
  },
  {
   "cell_type": "code",
   "execution_count": 14,
   "metadata": {},
   "outputs": [
    {
     "data": {
      "text/plain": [
       "ebay        9674\n",
       "FlipKart    2360\n",
       "Name: Site, dtype: int64"
      ]
     },
     "execution_count": 14,
     "metadata": {},
     "output_type": "execute_result"
    }
   ],
   "source": [
    "df['Site'].value_counts()"
   ]
  },
  {
   "cell_type": "code",
   "execution_count": 16,
   "metadata": {},
   "outputs": [
    {
     "data": {
      "text/plain": [
       "Mobile       4654\n",
       "Router       2020\n",
       "computer     1560\n",
       "Headphone    1440\n",
       "Mobiles       960\n",
       "TV            920\n",
       "Laptop        480\n",
       "Name: Product, dtype: int64"
      ]
     },
     "execution_count": 16,
     "metadata": {},
     "output_type": "execute_result"
    }
   ],
   "source": [
    "df['Product'].value_counts()"
   ]
  },
  {
   "cell_type": "code",
   "execution_count": 25,
   "metadata": {},
   "outputs": [
    {
     "data": {
      "image/png": "[encoded data removed]",
      "text/plain": [
       "<Figure size 432x288 with 1 Axes>"
      ]
     },
     "metadata": {
      "needs_background": "light"
     },
     "output_type": "display_data"
    },
    {
     "data": {
      "image/png": "[encoded data removed]",
      "text/plain": [
       "<Figure size 432x288 with 1 Axes>"
      ]
     },
     "metadata": {
      "needs_background": "light"
     },
     "output_type": "display_data"
    },
    {
     "data": {
      "image/png": "[encoded data removed]",
      "text/plain": [
       "<Figure size 432x288 with 1 Axes>"
      ]
     },
     "metadata": {
      "needs_background": "light"
     },
     "output_type": "display_data"
    },
    {
     "data": {
      "image/png": "[encoded data removed]",
      "text/plain": [
       "<Figure size 432x288 with 1 Axes>"
      ]
     },
     "metadata": {
      "needs_background": "light"
     },
     "output_type": "display_data"
    }
   ],
   "source": [
    "#lets see the label graphically to understand more clearly using some visualisation libraries\n",
    "import seaborn as sns\n",
    "import matplotlib.pyplot as plt\n",
    "sns.countplot(x='Rating',data=df)\n",
    "plt.show()\n",
    "sns.countplot(x='Reviews',data=df)\n",
    "plt.show()\n",
    "sns.countplot(x='Site',data=df)\n",
    "plt.show()\n",
    "sns.countplot(x='Product',data=df)\n",
    "plt.show()"
   ]
  },
  {
   "cell_type": "markdown",
   "metadata": {},
   "source": [
    "# Bivariate"
   ]
  },
  {
   "cell_type": "markdown",
   "metadata": {},
   "source": [
    "Seaborn and Matplotlib are two visualization libraries that used to visualize graphically data. In Bivariate method we have taken two variable one is target variable (rating) and other variable as all columns. In this way we have to visualize all variables with our target variable."
   ]
  },
  {
   "cell_type": "code",
   "execution_count": 26,
   "metadata": {},
   "outputs": [
    {
     "data": {
      "image/png": "[encoded data removed]",
      "text/plain": [
       "<Figure size 432x288 with 1 Axes>"
      ]
     },
     "metadata": {
      "needs_background": "light"
     },
     "output_type": "display_data"
    }
   ],
   "source": [
    "sns.barplot(x='Rating',y='Reviews',data=df)\n",
    "plt.show()"
   ]
  },
  {
   "cell_type": "code",
   "execution_count": 27,
   "metadata": {},
   "outputs": [
    {
     "data": {
      "image/png": "[encoded data removed]",
      "text/plain": [
       "<Figure size 432x288 with 1 Axes>"
      ]
     },
     "metadata": {
      "needs_background": "light"
     },
     "output_type": "display_data"
    }
   ],
   "source": [
    "sns.barplot(x='Rating',y='Site',data=df)\n",
    "plt.show()"
   ]
  },
  {
   "cell_type": "code",
   "execution_count": 28,
   "metadata": {
    "scrolled": true
   },
   "outputs": [
    {
     "data": {
      "image/png": "[encoded data removed]",
      "text/plain": [
       "<Figure size 432x288 with 1 Axes>"
      ]
     },
     "metadata": {
      "needs_background": "light"
     },
     "output_type": "display_data"
    }
   ],
   "source": [
    "sns.barplot(x='Rating',y='Product',data=df)\n",
    "plt.show()"
   ]
  },
  {
   "cell_type": "markdown",
   "metadata": {},
   "source": [
    "We have to do the label encoding of our data. Because all columns are of different data type. So we have to convert non-numeric values to numeric using label encoding method"
   ]
  },
  {
   "cell_type": "code",
   "execution_count": 39,
   "metadata": {},
   "outputs": [],
   "source": [
    "from sklearn.preprocessing import LabelEncoder\n",
    "import numpy as np\n",
    "le=LabelEncoder()\n",
    "for columns in df.columns:\n",
    "    if df[columns].dtype==np.number:\n",
    "        continue\n",
    "    df[columns]=le.fit_transform(df[columns])"
   ]
  },
  {
   "cell_type": "markdown",
   "metadata": {},
   "source": [
    "# Correlation between columns"
   ]
  },
  {
   "cell_type": "markdown",
   "metadata": {},
   "source": [
    "This above method is used to check the correlation between all columns. Heatmap method gives the graphical visualization from which we can easily understand the correlation."
   ]
  },
  {
   "cell_type": "code",
   "execution_count": 34,
   "metadata": {},
   "outputs": [
    {
     "data": {
      "text/html": [
       "<div>\n",
       "<style scoped>\n",
       "    .dataframe tbody tr th:only-of-type {\n",
       "        vertical-align: middle;\n",
       "    }\n",
       "\n",
       "    .dataframe tbody tr th {\n",
       "        vertical-align: top;\n",
       "    }\n",
       "\n",
       "    .dataframe thead th {\n",
       "        text-align: right;\n",
       "    }\n",
       "</style>\n",
       "<table border=\"1\" class=\"dataframe\">\n",
       "  <thead>\n",
       "    <tr style=\"text-align: right;\">\n",
       "      <th></th>\n",
       "      <th>Site</th>\n",
       "      <th>Product</th>\n",
       "      <th>Rating</th>\n",
       "      <th>Reviews</th>\n",
       "    </tr>\n",
       "  </thead>\n",
       "  <tbody>\n",
       "    <tr>\n",
       "      <th>Site</th>\n",
       "      <td>1.000000</td>\n",
       "      <td>-0.133894</td>\n",
       "      <td>0.411921</td>\n",
       "      <td>-0.549836</td>\n",
       "    </tr>\n",
       "    <tr>\n",
       "      <th>Product</th>\n",
       "      <td>-0.133894</td>\n",
       "      <td>1.000000</td>\n",
       "      <td>0.050788</td>\n",
       "      <td>0.004930</td>\n",
       "    </tr>\n",
       "    <tr>\n",
       "      <th>Rating</th>\n",
       "      <td>0.411921</td>\n",
       "      <td>0.050788</td>\n",
       "      <td>1.000000</td>\n",
       "      <td>-0.367349</td>\n",
       "    </tr>\n",
       "    <tr>\n",
       "      <th>Reviews</th>\n",
       "      <td>-0.549836</td>\n",
       "      <td>0.004930</td>\n",
       "      <td>-0.367349</td>\n",
       "      <td>1.000000</td>\n",
       "    </tr>\n",
       "  </tbody>\n",
       "</table>\n",
       "</div>"
      ],
      "text/plain": [
       "             Site   Product    Rating   Reviews\n",
       "Site     1.000000 -0.133894  0.411921 -0.549836\n",
       "Product -0.133894  1.000000  0.050788  0.004930\n",
       "Rating   0.411921  0.050788  1.000000 -0.367349\n",
       "Reviews -0.549836  0.004930 -0.367349  1.000000"
      ]
     },
     "execution_count": 34,
     "metadata": {},
     "output_type": "execute_result"
    }
   ],
   "source": [
    "df.corr()"
   ]
  },
  {
   "cell_type": "code",
   "execution_count": 35,
   "metadata": {},
   "outputs": [
    {
     "data": {
      "text/plain": [
       "<matplotlib.axes._subplots.AxesSubplot at 0x2029bebfbb0>"
      ]
     },
     "execution_count": 35,
     "metadata": {},
     "output_type": "execute_result"
    },
    {
     "data": {
      "image/png": "[encoded data removed]",
      "text/plain": [
       "<Figure size 720x360 with 2 Axes>"
      ]
     },
     "metadata": {
      "needs_background": "light"
     },
     "output_type": "display_data"
    }
   ],
   "source": [
    "#lets check the correlation using heatmap for better understanding\n",
    "plt.subplots(figsize=(10,5))\n",
    "sns.heatmap(df.corr(),linewidths=.1,linecolor='black', annot=True)"
   ]
  },
  {
   "cell_type": "markdown",
   "metadata": {},
   "source": [
    "Some columns are making good positive correlation with our target variable and some has negative correlation. So the variables that doesn’t make any good correlation with any variable so we to drop that column from the dataset."
   ]
  },
  {
   "cell_type": "markdown",
   "metadata": {},
   "source": [
    "# Checking outliers"
   ]
  },
  {
   "cell_type": "code",
   "execution_count": 36,
   "metadata": {},
   "outputs": [
    {
     "data": {
      "image/png": "[encoded data removed]",
      "text/plain": [
       "<Figure size 432x288 with 1 Axes>"
      ]
     },
     "metadata": {
      "needs_background": "light"
     },
     "output_type": "display_data"
    }
   ],
   "source": [
    "sns.boxplot(data=df[['Rating','Reviews']],orient='h',palette='Set2')\n",
    "plt.title('outliers')\n",
    "plt.show()"
   ]
  },
  {
   "cell_type": "code",
   "execution_count": 37,
   "metadata": {},
   "outputs": [
    {
     "data": {
      "image/png": "[encoded data removed]",
      "text/plain": [
       "<Figure size 432x288 with 1 Axes>"
      ]
     },
     "metadata": {
      "needs_background": "light"
     },
     "output_type": "display_data"
    }
   ],
   "source": [
    "sns.boxplot(data=df[['Site','Product']],orient='h',palette='Set2')\n",
    "plt.title('outliers')\n",
    "plt.show()"
   ]
  },
  {
   "cell_type": "markdown",
   "metadata": {},
   "source": [
    "Outliers are present in our dataset. So we have to remove that outliers to get the proper results."
   ]
  },
  {
   "cell_type": "code",
   "execution_count": 38,
   "metadata": {},
   "outputs": [
    {
     "data": {
      "text/plain": [
       "Site      -1.530911\n",
       "Product    0.251573\n",
       "Rating     0.297716\n",
       "Reviews    1.123633\n",
       "dtype: float64"
      ]
     },
     "execution_count": 38,
     "metadata": {},
     "output_type": "execute_result"
    }
   ],
   "source": [
    "#lets check the skewness of all columns\n",
    "df.skew()"
   ]
  },
  {
   "cell_type": "markdown",
   "metadata": {},
   "source": [
    "# Removing outliers"
   ]
  },
  {
   "cell_type": "code",
   "execution_count": 40,
   "metadata": {},
   "outputs": [],
   "source": [
    "import warnings\n",
    "warnings.filterwarnings('ignore')\n",
    "from scipy.stats import zscore\n",
    "import numpy as np\n",
    "z=np.abs(zscore(df))\n",
    "thresholds=3\n",
    "df_new=df[(z<3).all(axis=1)]"
   ]
  },
  {
   "cell_type": "code",
   "execution_count": 41,
   "metadata": {},
   "outputs": [
    {
     "name": "stdout",
     "output_type": "stream",
     "text": [
      "[(12034, 4)] [(12034, 4)]\n"
     ]
    }
   ],
   "source": [
    "print([df.shape],[df_new.shape])"
   ]
  },
  {
   "cell_type": "markdown",
   "metadata": {},
   "source": [
    "There is no any loss in our dataset so we do not have to remove outliers."
   ]
  },
  {
   "cell_type": "code",
   "execution_count": 42,
   "metadata": {},
   "outputs": [],
   "source": [
    "#lets split the data into x and y variable(input & output)\n",
    "x=df.drop(columns=[\"Rating\"])\n",
    "y=df[[\"Rating\"]] #this is our target variable"
   ]
  },
  {
   "cell_type": "code",
   "execution_count": 43,
   "metadata": {},
   "outputs": [],
   "source": [
    "#Scaling is used to bring the dataset in common range\n",
    "from sklearn.preprocessing import StandardScaler\n",
    "sc=StandardScaler()\n",
    "scaledx=sc.fit_transform(x)"
   ]
  },
  {
   "cell_type": "markdown",
   "metadata": {},
   "source": [
    "StandardScaler is that it will transform your data such that its distribution will have a mean value 0 and standard deviation of 1. In case of multivariate data, this is done feature-wise (in other words independently for each column of the data)."
   ]
  },
  {
   "cell_type": "markdown",
   "metadata": {},
   "source": [
    "# Splitting the dataframe"
   ]
  },
  {
   "cell_type": "markdown",
   "metadata": {},
   "source": [
    "Now we have to split our data in training and testing form. And we have apply some machine learning modules.\n",
    "\n",
    "1.Our target variable is in categorical form so we have to apply logistic regression method.\n",
    "\n",
    "2.We can also apply other methods to check which machine learning model gives better accuracy."
   ]
  },
  {
   "cell_type": "code",
   "execution_count": 46,
   "metadata": {},
   "outputs": [],
   "source": [
    "from sklearn.model_selection import train_test_split\n",
    "x_train,x_test,y_train,y_test=train_test_split(scaledx,y,test_size=.25,random_state=42)"
   ]
  },
  {
   "cell_type": "code",
   "execution_count": 49,
   "metadata": {},
   "outputs": [],
   "source": [
    "#Import all model library\n",
    "from sklearn.linear_model import LogisticRegression\n",
    "lg=LogisticRegression()\n",
    "from sklearn.tree import DecisionTreeClassifier\n",
    "from sklearn.ensemble import RandomForestClassifier\n",
    "from sklearn.metrics import accuracy_score,confusion_matrix,classification_report\n",
    "from sklearn.model_selection import GridSearchCV,cross_val_score\n",
    "import warnings\n",
    "warnings.filterwarnings('ignore')"
   ]
  },
  {
   "cell_type": "code",
   "execution_count": 50,
   "metadata": {},
   "outputs": [
    {
     "name": "stdout",
     "output_type": "stream",
     "text": [
      "At random_state: 45\n",
      "Training r2_score is: 72.05540166204986\n",
      "Testing r2_score is: 72.05051512130277\n",
      "At random_state: 47\n",
      "Training r2_score is: 71.5567867036011\n",
      "Testing r2_score is: 71.61847789963443\n",
      "At random_state: 67\n",
      "Training r2_score is: 71.8781163434903\n",
      "Testing r2_score is: 71.91758059155866\n"
     ]
    }
   ],
   "source": [
    "for i in range(42,100):\n",
    "    x_train,x_test,y_train,y_test=train_test_split(x,y,test_size=.25,random_state=i)\n",
    "    lg.fit(x_train,y_train)\n",
    "    pred_train=lg.predict(x_train)\n",
    "    pred_test=lg.predict(x_test)\n",
    "    if round(accuracy_score(y_train,pred_train)*100,1)==round(accuracy_score(y_test,pred_test)*100,1):\n",
    "        print('At random_state:',i)\n",
    "        print('Training r2_score is:',accuracy_score(y_train,pred_train)*100)\n",
    "        print('Testing r2_score is:',accuracy_score(y_test,pred_test)*100)"
   ]
  },
  {
   "cell_type": "code",
   "execution_count": 51,
   "metadata": {},
   "outputs": [
    {
     "name": "stdout",
     "output_type": "stream",
     "text": [
      "At cv: 2\n",
      "Cross vali score is: 72.11698238617481\n",
      "Accuracy is: 72.11698238617481\n",
      "\n",
      "\n",
      "At cv: 3\n",
      "Cross vali score is: 72.11698238617481\n",
      "Accuracy is: 72.11698238617481\n",
      "\n",
      "\n",
      "At cv: 4\n",
      "Cross vali score is: 72.11698238617481\n",
      "Accuracy is: 72.11698238617481\n",
      "\n",
      "\n",
      "At cv: 5\n",
      "Cross vali score is: 72.11698238617481\n",
      "Accuracy is: 72.11698238617481\n",
      "\n",
      "\n",
      "At cv: 6\n",
      "Cross vali score is: 72.11698238617481\n",
      "Accuracy is: 72.11698238617481\n",
      "\n",
      "\n",
      "At cv: 7\n",
      "Cross vali score is: 72.11698238617481\n",
      "Accuracy is: 72.11698238617481\n",
      "\n",
      "\n",
      "At cv: 8\n",
      "Cross vali score is: 72.11698238617481\n",
      "Accuracy is: 72.11698238617481\n",
      "\n",
      "\n",
      "At cv: 9\n",
      "Cross vali score is: 72.11698238617481\n",
      "Accuracy is: 72.11698238617481\n",
      "\n",
      "\n"
     ]
    }
   ],
   "source": [
    "pred_lg=lg.predict(x_test)\n",
    "from sklearn.model_selection import cross_val_score\n",
    "lss=accuracy_score(y_test,pred_lg)\n",
    "for j in range(2,10):\n",
    "    lsscore=cross_val_score(lg,x,y,cv=j)\n",
    "    lsc=lsscore.mean()\n",
    "    print('At cv:',j)\n",
    "    print('Cross vali score is:',lss*100)\n",
    "    print('Accuracy is:',lss*100)\n",
    "    print('\\n')"
   ]
  },
  {
   "cell_type": "code",
   "execution_count": 52,
   "metadata": {},
   "outputs": [
    {
     "name": "stdout",
     "output_type": "stream",
     "text": [
      "82.18677301429047\n",
      "[[  43    0    0]\n",
      " [   0 1576  295]\n",
      " [   0  241  854]]\n",
      "              precision    recall  f1-score   support\n",
      "\n",
      "           0       1.00      1.00      1.00        43\n",
      "           1       0.87      0.84      0.85      1871\n",
      "           2       0.74      0.78      0.76      1095\n",
      "\n",
      "    accuracy                           0.82      3009\n",
      "   macro avg       0.87      0.87      0.87      3009\n",
      "weighted avg       0.82      0.82      0.82      3009\n",
      "\n"
     ]
    }
   ],
   "source": [
    "from sklearn.tree import DecisionTreeClassifier\n",
    "dc=DecisionTreeClassifier()\n",
    "dc.fit(x_train,y_train)\n",
    "dc.score(x_train,y_train)\n",
    "pred=dc.predict(x_test)\n",
    "print(accuracy_score(y_test,pred)*100)    \n",
    "print(confusion_matrix(y_test,pred))\n",
    "print(classification_report(y_test,pred))"
   ]
  },
  {
   "cell_type": "code",
   "execution_count": 53,
   "metadata": {},
   "outputs": [
    {
     "name": "stdout",
     "output_type": "stream",
     "text": [
      "82.25324027916251\n",
      "[[  43    0    0]\n",
      " [   0 1572  299]\n",
      " [   0  235  860]]\n",
      "              precision    recall  f1-score   support\n",
      "\n",
      "           0       1.00      1.00      1.00        43\n",
      "           1       0.87      0.84      0.85      1871\n",
      "           2       0.74      0.79      0.76      1095\n",
      "\n",
      "    accuracy                           0.82      3009\n",
      "   macro avg       0.87      0.88      0.87      3009\n",
      "weighted avg       0.83      0.82      0.82      3009\n",
      "\n"
     ]
    }
   ],
   "source": [
    "from sklearn.ensemble import RandomForestClassifier\n",
    "rc=RandomForestClassifier()\n",
    "rc.fit(x_train,y_train)\n",
    "rc.score(x_train,y_train)\n",
    "pred=rc.predict(x_test)\n",
    "print(accuracy_score(y_test,pred)*100)\n",
    "print(confusion_matrix(y_test,pred))\n",
    "print(classification_report(y_test,pred))"
   ]
  },
  {
   "cell_type": "code",
   "execution_count": 55,
   "metadata": {},
   "outputs": [
    {
     "data": {
      "text/plain": [
       "79.1957460950482"
      ]
     },
     "execution_count": 55,
     "metadata": {},
     "output_type": "execute_result"
    }
   ],
   "source": [
    "from sklearn.neighbors import KNeighborsClassifier\n",
    "knn = KNeighborsClassifier(n_neighbors = 5, metric = 'minkowski', p = 2)\n",
    "knn.fit(x_train, y_train)\n",
    "knn.score(x_test,y_test)*100"
   ]
  },
  {
   "cell_type": "markdown",
   "metadata": {},
   "source": [
    "From above we can say that Random forest classifier gives 82.25% accuracy and other methods also gives more than 75% accuracy. So random forest classifier method works better for our model. "
   ]
  },
  {
   "cell_type": "markdown",
   "metadata": {},
   "source": [
    "# Model Saving"
   ]
  },
  {
   "cell_type": "markdown",
   "metadata": {},
   "source": [
    "We have to save our model using pickle method or joblib method."
   ]
  },
  {
   "cell_type": "code",
   "execution_count": 56,
   "metadata": {},
   "outputs": [],
   "source": [
    "import pickle\n",
    "filename='rating.pkl'\n",
    "pickle.dump(rc,open(filename,'wb'))"
   ]
  },
  {
   "cell_type": "markdown",
   "metadata": {},
   "source": [
    "# Conclusion"
   ]
  },
  {
   "cell_type": "markdown",
   "metadata": {},
   "source": [
    "1.In the experimentation different machine learning algorithms were employed for the proposed model development and their performances were evaluated on various parameters.\n",
    "\n",
    "2.From all above process we can say that whatever algorithms or method we used for prediction of our model all process with visualization is very beneficial. Using any visualization library it is easy for us to understand the all data.\n",
    "\n",
    "3.For this data Randomforest classifier and decision tree classifier proves the best and others we have used also has good result."
   ]
  },
  {
   "cell_type": "code",
   "execution_count": null,
   "metadata": {},
   "outputs": [],
   "source": []
  }
 ],
 "metadata": {
  "kernelspec": {
   "display_name": "Python 3",
   "language": "python",
   "name": "python3"
  },
  "language_info": {
   "codemirror_mode": {
    "name": "ipython",
    "version": 3
   },
   "file_extension": ".py",
   "mimetype": "text/x-python",
   "name": "python",
   "nbconvert_exporter": "python",
   "pygments_lexer": "ipython3",
   "version": "3.8.3"
  }
 },
 "nbformat": 4,
 "nbformat_minor": 4
}
